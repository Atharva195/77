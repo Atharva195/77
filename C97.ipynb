{
  "nbformat": 4,
  "nbformat_minor": 0,
  "metadata": {
    "colab": {
      "name": "C97.ipynb",
      "provenance": [],
      "authorship_tag": "ABX9TyP4A0fRFr2K1FNivGJENSMZ",
      "include_colab_link": true
    },
    "kernelspec": {
      "name": "python3",
      "display_name": "Python 3"
    },
    "language_info": {
      "name": "python"
    }
  },
  "cells": [
    {
      "cell_type": "markdown",
      "metadata": {
        "id": "view-in-github",
        "colab_type": "text"
      },
      "source": [
        "<a href=\"https://colab.research.google.com/github/Atharva195/77/blob/main/C97.ipynb\" target=\"_parent\"><img src=\"https://colab.research.google.com/assets/colab-badge.svg\" alt=\"Open In Colab\"/></a>"
      ]
    },
    {
      "cell_type": "code",
      "execution_count": null,
      "metadata": {
        "colab": {
          "base_uri": "https://localhost:8080/"
        },
        "id": "vaT5Vywenjrx",
        "outputId": "e11e0063-36cd-4e08-b75f-8bc9ad9839db"
      },
      "outputs": [
        {
          "output_type": "stream",
          "name": "stdout",
          "text": [
            "atharva\n"
          ]
        }
      ],
      "source": [
        "name=\"atharva\"\n",
        "print (name)"
      ]
    },
    {
      "cell_type": "code",
      "source": [
        "celsius=32.5\n",
        "#convert to farenheit\n",
        "fahrenheit=(celsius*(9/5))+32\n",
        "print (fahrenheit)"
      ],
      "metadata": {
        "colab": {
          "base_uri": "https://localhost:8080/"
        },
        "id": "oo9Tpn2sogWE",
        "outputId": "5f846d15-482b-44ce-a4a7-303593859699"
      },
      "execution_count": null,
      "outputs": [
        {
          "output_type": "stream",
          "name": "stdout",
          "text": [
            "90.5\n"
          ]
        }
      ]
    },
    {
      "cell_type": "markdown",
      "source": [
        "farenheit=9/5*(celsius)+32"
      ],
      "metadata": {
        "id": "9QbX5Nknonbr"
      }
    },
    {
      "cell_type": "code",
      "source": [
        "def add(d,k):\n",
        "  return d+k\n"
      ],
      "metadata": {
        "id": "FXaaTh5Fq5hs"
      },
      "execution_count": 10,
      "outputs": []
    },
    {
      "cell_type": "code",
      "source": [
        "def subtract(h,v):\n",
        "  return h-v\n"
      ],
      "metadata": {
        "id": "MCRatVTCrZrz"
      },
      "execution_count": 4,
      "outputs": []
    },
    {
      "cell_type": "markdown",
      "source": [
        "conditions and logical operations\n",
        "define the calculate() based on parameters:\n",
        " to check if the option is 1(for add) or 2(for subtract)\n",
        " In python if we have more than one condition with more outputs we have to use elif"
      ],
      "metadata": {
        "id": "ijj-a88brjlD"
      }
    },
    {
      "cell_type": "code",
      "source": [
        "def calculate(option):\n",
        "  if(option=='1'or option=='2'):\n",
        "    num1 = float(input(\"enter  the first number : \"))\n",
        "    num2 = float(input(\"enter the second number : \"))\n",
        "    if(option=='1'):\n",
        "      print(\"sum\",num1,\"+\",num2,\"=\",add(num1,num2))\n",
        "    elif(option=='2'):\n",
        "      print(\"difference\",num1,\"-\",num2,\"=\",subtract(num1,num2))\n",
        "\n",
        "  else:\n",
        "    print(\"invalid input\")\n",
        "#instructions for the user\n",
        "print(\"choose operation from below: \")\n",
        "print(\"1.Add\")\n",
        "print(\"2.Subtract\")\n",
        "#take input from user\n",
        "option= input(\"Enter option number(1/2): \")\n",
        "calculate(option)"
      ],
      "metadata": {
        "colab": {
          "base_uri": "https://localhost:8080/"
        },
        "id": "KfFpgVDhsPap",
        "outputId": "36a72faa-c6ec-4dd6-c605-5196eebcb56c"
      },
      "execution_count": 12,
      "outputs": [
        {
          "output_type": "stream",
          "name": "stdout",
          "text": [
            "choose operation from below: \n",
            "1.Add\n",
            "2.Subtract\n",
            "Enter option number(1/2): 2\n",
            "enter  the first number : 76\n",
            "enter the second number : 13\n",
            "difference 76.0 - 13.0 = 63.0\n"
          ]
        }
      ]
    }
  ]
}